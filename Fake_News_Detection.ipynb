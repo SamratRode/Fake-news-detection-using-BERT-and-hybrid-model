{
  "nbformat": 4,
  "nbformat_minor": 0,
  "metadata": {
    "colab": {
      "name": "Fake_News_Detection.ipynb",
      "provenance": [],
      "collapsed_sections": [],
      "include_colab_link": true
    },
    "kernelspec": {
      "name": "python3",
      "display_name": "Python 3"
    },
    "language_info": {
      "name": "python"
    }
  },
  "cells": [
    {
      "cell_type": "markdown",
      "metadata": {
        "id": "view-in-github",
        "colab_type": "text"
      },
      "source": [
        "<a href=\"https://colab.research.google.com/github/SamratRode/Fake-news-detection-using-BERT-and-hybrid-model/blob/main/Fake_News_Detection.ipynb\" target=\"_parent\"><img src=\"https://colab.research.google.com/assets/colab-badge.svg\" alt=\"Open In Colab\"/></a>"
      ]
    },
    {
      "cell_type": "code",
      "metadata": {
        "id": "XkJzBWN0ZKBN"
      },
      "source": [
        "import numpy as np\n",
        "import pandas as pd\n",
        "import matplotlib.pyplot as plt"
      ],
      "execution_count": null,
      "outputs": []
    },
    {
      "cell_type": "code",
      "metadata": {
        "id": "7NQEsGqxZPg0"
      },
      "source": [
        "real_data=pd.read_csv(\"/content/drive/MyDrive/dataset/Fake_News_Detection/True.csv\")\n",
        "fake_data=pd.read_csv(\"/content/drive/MyDrive/dataset/Fake_News_Detection/Fake.csv\")"
      ],
      "execution_count": null,
      "outputs": []
    },
    {
      "cell_type": "code",
      "metadata": {
        "colab": {
          "base_uri": "https://localhost:8080/",
          "height": 206
        },
        "id": "DYVbA9QVbEW0",
        "outputId": "59294cad-eaad-4183-a421-33883ed7cb78"
      },
      "source": [
        "fake_data.head()"
      ],
      "execution_count": null,
      "outputs": [
        {
          "output_type": "execute_result",
          "data": {
            "text/html": [
              "<div>\n",
              "<style scoped>\n",
              "    .dataframe tbody tr th:only-of-type {\n",
              "        vertical-align: middle;\n",
              "    }\n",
              "\n",
              "    .dataframe tbody tr th {\n",
              "        vertical-align: top;\n",
              "    }\n",
              "\n",
              "    .dataframe thead th {\n",
              "        text-align: right;\n",
              "    }\n",
              "</style>\n",
              "<table border=\"1\" class=\"dataframe\">\n",
              "  <thead>\n",
              "    <tr style=\"text-align: right;\">\n",
              "      <th></th>\n",
              "      <th>title</th>\n",
              "      <th>text</th>\n",
              "      <th>subject</th>\n",
              "      <th>date</th>\n",
              "    </tr>\n",
              "  </thead>\n",
              "  <tbody>\n",
              "    <tr>\n",
              "      <th>0</th>\n",
              "      <td>Donald Trump Sends Out Embarrassing New Year’...</td>\n",
              "      <td>Donald Trump just couldn t wish all Americans ...</td>\n",
              "      <td>News</td>\n",
              "      <td>December 31, 2017</td>\n",
              "    </tr>\n",
              "    <tr>\n",
              "      <th>1</th>\n",
              "      <td>Drunk Bragging Trump Staffer Started Russian ...</td>\n",
              "      <td>House Intelligence Committee Chairman Devin Nu...</td>\n",
              "      <td>News</td>\n",
              "      <td>December 31, 2017</td>\n",
              "    </tr>\n",
              "    <tr>\n",
              "      <th>2</th>\n",
              "      <td>Sheriff David Clarke Becomes An Internet Joke...</td>\n",
              "      <td>On Friday, it was revealed that former Milwauk...</td>\n",
              "      <td>News</td>\n",
              "      <td>December 30, 2017</td>\n",
              "    </tr>\n",
              "    <tr>\n",
              "      <th>3</th>\n",
              "      <td>Trump Is So Obsessed He Even Has Obama’s Name...</td>\n",
              "      <td>On Christmas day, Donald Trump announced that ...</td>\n",
              "      <td>News</td>\n",
              "      <td>December 29, 2017</td>\n",
              "    </tr>\n",
              "    <tr>\n",
              "      <th>4</th>\n",
              "      <td>Pope Francis Just Called Out Donald Trump Dur...</td>\n",
              "      <td>Pope Francis used his annual Christmas Day mes...</td>\n",
              "      <td>News</td>\n",
              "      <td>December 25, 2017</td>\n",
              "    </tr>\n",
              "  </tbody>\n",
              "</table>\n",
              "</div>"
            ],
            "text/plain": [
              "                                               title  ...               date\n",
              "0   Donald Trump Sends Out Embarrassing New Year’...  ...  December 31, 2017\n",
              "1   Drunk Bragging Trump Staffer Started Russian ...  ...  December 31, 2017\n",
              "2   Sheriff David Clarke Becomes An Internet Joke...  ...  December 30, 2017\n",
              "3   Trump Is So Obsessed He Even Has Obama’s Name...  ...  December 29, 2017\n",
              "4   Pope Francis Just Called Out Donald Trump Dur...  ...  December 25, 2017\n",
              "\n",
              "[5 rows x 4 columns]"
            ]
          },
          "metadata": {},
          "execution_count": 3
        }
      ]
    },
    {
      "cell_type": "code",
      "metadata": {
        "colab": {
          "base_uri": "https://localhost:8080/",
          "height": 423
        },
        "id": "R9wKngzjc09V",
        "outputId": "0819de3a-5972-4f70-f7bd-2f3a76163b20"
      },
      "source": [
        "real_data"
      ],
      "execution_count": null,
      "outputs": [
        {
          "output_type": "execute_result",
          "data": {
            "text/html": [
              "<div>\n",
              "<style scoped>\n",
              "    .dataframe tbody tr th:only-of-type {\n",
              "        vertical-align: middle;\n",
              "    }\n",
              "\n",
              "    .dataframe tbody tr th {\n",
              "        vertical-align: top;\n",
              "    }\n",
              "\n",
              "    .dataframe thead th {\n",
              "        text-align: right;\n",
              "    }\n",
              "</style>\n",
              "<table border=\"1\" class=\"dataframe\">\n",
              "  <thead>\n",
              "    <tr style=\"text-align: right;\">\n",
              "      <th></th>\n",
              "      <th>title</th>\n",
              "      <th>text</th>\n",
              "      <th>subject</th>\n",
              "      <th>date</th>\n",
              "    </tr>\n",
              "  </thead>\n",
              "  <tbody>\n",
              "    <tr>\n",
              "      <th>0</th>\n",
              "      <td>As U.S. budget fight looms, Republicans flip t...</td>\n",
              "      <td>WASHINGTON (Reuters) - The head of a conservat...</td>\n",
              "      <td>politicsNews</td>\n",
              "      <td>December 31, 2017</td>\n",
              "    </tr>\n",
              "    <tr>\n",
              "      <th>1</th>\n",
              "      <td>U.S. military to accept transgender recruits o...</td>\n",
              "      <td>WASHINGTON (Reuters) - Transgender people will...</td>\n",
              "      <td>politicsNews</td>\n",
              "      <td>December 29, 2017</td>\n",
              "    </tr>\n",
              "    <tr>\n",
              "      <th>2</th>\n",
              "      <td>Senior U.S. Republican senator: 'Let Mr. Muell...</td>\n",
              "      <td>WASHINGTON (Reuters) - The special counsel inv...</td>\n",
              "      <td>politicsNews</td>\n",
              "      <td>December 31, 2017</td>\n",
              "    </tr>\n",
              "    <tr>\n",
              "      <th>3</th>\n",
              "      <td>FBI Russia probe helped by Australian diplomat...</td>\n",
              "      <td>WASHINGTON (Reuters) - Trump campaign adviser ...</td>\n",
              "      <td>politicsNews</td>\n",
              "      <td>December 30, 2017</td>\n",
              "    </tr>\n",
              "    <tr>\n",
              "      <th>4</th>\n",
              "      <td>Trump wants Postal Service to charge 'much mor...</td>\n",
              "      <td>SEATTLE/WASHINGTON (Reuters) - President Donal...</td>\n",
              "      <td>politicsNews</td>\n",
              "      <td>December 29, 2017</td>\n",
              "    </tr>\n",
              "    <tr>\n",
              "      <th>...</th>\n",
              "      <td>...</td>\n",
              "      <td>...</td>\n",
              "      <td>...</td>\n",
              "      <td>...</td>\n",
              "    </tr>\n",
              "    <tr>\n",
              "      <th>21412</th>\n",
              "      <td>'Fully committed' NATO backs new U.S. approach...</td>\n",
              "      <td>BRUSSELS (Reuters) - NATO allies on Tuesday we...</td>\n",
              "      <td>worldnews</td>\n",
              "      <td>August 22, 2017</td>\n",
              "    </tr>\n",
              "    <tr>\n",
              "      <th>21413</th>\n",
              "      <td>LexisNexis withdrew two products from Chinese ...</td>\n",
              "      <td>LONDON (Reuters) - LexisNexis, a provider of l...</td>\n",
              "      <td>worldnews</td>\n",
              "      <td>August 22, 2017</td>\n",
              "    </tr>\n",
              "    <tr>\n",
              "      <th>21414</th>\n",
              "      <td>Minsk cultural hub becomes haven from authorities</td>\n",
              "      <td>MINSK (Reuters) - In the shadow of disused Sov...</td>\n",
              "      <td>worldnews</td>\n",
              "      <td>August 22, 2017</td>\n",
              "    </tr>\n",
              "    <tr>\n",
              "      <th>21415</th>\n",
              "      <td>Vatican upbeat on possibility of Pope Francis ...</td>\n",
              "      <td>MOSCOW (Reuters) - Vatican Secretary of State ...</td>\n",
              "      <td>worldnews</td>\n",
              "      <td>August 22, 2017</td>\n",
              "    </tr>\n",
              "    <tr>\n",
              "      <th>21416</th>\n",
              "      <td>Indonesia to buy $1.14 billion worth of Russia...</td>\n",
              "      <td>JAKARTA (Reuters) - Indonesia will buy 11 Sukh...</td>\n",
              "      <td>worldnews</td>\n",
              "      <td>August 22, 2017</td>\n",
              "    </tr>\n",
              "  </tbody>\n",
              "</table>\n",
              "<p>21417 rows × 4 columns</p>\n",
              "</div>"
            ],
            "text/plain": [
              "                                                   title  ...                date\n",
              "0      As U.S. budget fight looms, Republicans flip t...  ...  December 31, 2017 \n",
              "1      U.S. military to accept transgender recruits o...  ...  December 29, 2017 \n",
              "2      Senior U.S. Republican senator: 'Let Mr. Muell...  ...  December 31, 2017 \n",
              "3      FBI Russia probe helped by Australian diplomat...  ...  December 30, 2017 \n",
              "4      Trump wants Postal Service to charge 'much mor...  ...  December 29, 2017 \n",
              "...                                                  ...  ...                 ...\n",
              "21412  'Fully committed' NATO backs new U.S. approach...  ...    August 22, 2017 \n",
              "21413  LexisNexis withdrew two products from Chinese ...  ...    August 22, 2017 \n",
              "21414  Minsk cultural hub becomes haven from authorities  ...    August 22, 2017 \n",
              "21415  Vatican upbeat on possibility of Pope Francis ...  ...    August 22, 2017 \n",
              "21416  Indonesia to buy $1.14 billion worth of Russia...  ...    August 22, 2017 \n",
              "\n",
              "[21417 rows x 4 columns]"
            ]
          },
          "metadata": {},
          "execution_count": 4
        }
      ]
    },
    {
      "cell_type": "code",
      "metadata": {
        "id": "dlvLhSAQbH8F"
      },
      "source": [
        "#Removing Date Attribute\n",
        "real_data = real_data.iloc[:, 0:-1]\n",
        "fake_data = fake_data.iloc[:, 0:-1]"
      ],
      "execution_count": null,
      "outputs": []
    },
    {
      "cell_type": "code",
      "metadata": {
        "colab": {
          "base_uri": "https://localhost:8080/",
          "height": 423
        },
        "id": "wqQxTSQ7cuUK",
        "outputId": "7520dc75-58b5-48b5-e0e5-8d1431310982"
      },
      "source": [
        "real_data"
      ],
      "execution_count": null,
      "outputs": [
        {
          "output_type": "execute_result",
          "data": {
            "text/html": [
              "<div>\n",
              "<style scoped>\n",
              "    .dataframe tbody tr th:only-of-type {\n",
              "        vertical-align: middle;\n",
              "    }\n",
              "\n",
              "    .dataframe tbody tr th {\n",
              "        vertical-align: top;\n",
              "    }\n",
              "\n",
              "    .dataframe thead th {\n",
              "        text-align: right;\n",
              "    }\n",
              "</style>\n",
              "<table border=\"1\" class=\"dataframe\">\n",
              "  <thead>\n",
              "    <tr style=\"text-align: right;\">\n",
              "      <th></th>\n",
              "      <th>title</th>\n",
              "      <th>text</th>\n",
              "      <th>subject</th>\n",
              "    </tr>\n",
              "  </thead>\n",
              "  <tbody>\n",
              "    <tr>\n",
              "      <th>0</th>\n",
              "      <td>As U.S. budget fight looms, Republicans flip t...</td>\n",
              "      <td>WASHINGTON (Reuters) - The head of a conservat...</td>\n",
              "      <td>politicsNews</td>\n",
              "    </tr>\n",
              "    <tr>\n",
              "      <th>1</th>\n",
              "      <td>U.S. military to accept transgender recruits o...</td>\n",
              "      <td>WASHINGTON (Reuters) - Transgender people will...</td>\n",
              "      <td>politicsNews</td>\n",
              "    </tr>\n",
              "    <tr>\n",
              "      <th>2</th>\n",
              "      <td>Senior U.S. Republican senator: 'Let Mr. Muell...</td>\n",
              "      <td>WASHINGTON (Reuters) - The special counsel inv...</td>\n",
              "      <td>politicsNews</td>\n",
              "    </tr>\n",
              "    <tr>\n",
              "      <th>3</th>\n",
              "      <td>FBI Russia probe helped by Australian diplomat...</td>\n",
              "      <td>WASHINGTON (Reuters) - Trump campaign adviser ...</td>\n",
              "      <td>politicsNews</td>\n",
              "    </tr>\n",
              "    <tr>\n",
              "      <th>4</th>\n",
              "      <td>Trump wants Postal Service to charge 'much mor...</td>\n",
              "      <td>SEATTLE/WASHINGTON (Reuters) - President Donal...</td>\n",
              "      <td>politicsNews</td>\n",
              "    </tr>\n",
              "    <tr>\n",
              "      <th>...</th>\n",
              "      <td>...</td>\n",
              "      <td>...</td>\n",
              "      <td>...</td>\n",
              "    </tr>\n",
              "    <tr>\n",
              "      <th>21412</th>\n",
              "      <td>'Fully committed' NATO backs new U.S. approach...</td>\n",
              "      <td>BRUSSELS (Reuters) - NATO allies on Tuesday we...</td>\n",
              "      <td>worldnews</td>\n",
              "    </tr>\n",
              "    <tr>\n",
              "      <th>21413</th>\n",
              "      <td>LexisNexis withdrew two products from Chinese ...</td>\n",
              "      <td>LONDON (Reuters) - LexisNexis, a provider of l...</td>\n",
              "      <td>worldnews</td>\n",
              "    </tr>\n",
              "    <tr>\n",
              "      <th>21414</th>\n",
              "      <td>Minsk cultural hub becomes haven from authorities</td>\n",
              "      <td>MINSK (Reuters) - In the shadow of disused Sov...</td>\n",
              "      <td>worldnews</td>\n",
              "    </tr>\n",
              "    <tr>\n",
              "      <th>21415</th>\n",
              "      <td>Vatican upbeat on possibility of Pope Francis ...</td>\n",
              "      <td>MOSCOW (Reuters) - Vatican Secretary of State ...</td>\n",
              "      <td>worldnews</td>\n",
              "    </tr>\n",
              "    <tr>\n",
              "      <th>21416</th>\n",
              "      <td>Indonesia to buy $1.14 billion worth of Russia...</td>\n",
              "      <td>JAKARTA (Reuters) - Indonesia will buy 11 Sukh...</td>\n",
              "      <td>worldnews</td>\n",
              "    </tr>\n",
              "  </tbody>\n",
              "</table>\n",
              "<p>21417 rows × 3 columns</p>\n",
              "</div>"
            ],
            "text/plain": [
              "                                                   title  ...       subject\n",
              "0      As U.S. budget fight looms, Republicans flip t...  ...  politicsNews\n",
              "1      U.S. military to accept transgender recruits o...  ...  politicsNews\n",
              "2      Senior U.S. Republican senator: 'Let Mr. Muell...  ...  politicsNews\n",
              "3      FBI Russia probe helped by Australian diplomat...  ...  politicsNews\n",
              "4      Trump wants Postal Service to charge 'much mor...  ...  politicsNews\n",
              "...                                                  ...  ...           ...\n",
              "21412  'Fully committed' NATO backs new U.S. approach...  ...     worldnews\n",
              "21413  LexisNexis withdrew two products from Chinese ...  ...     worldnews\n",
              "21414  Minsk cultural hub becomes haven from authorities  ...     worldnews\n",
              "21415  Vatican upbeat on possibility of Pope Francis ...  ...     worldnews\n",
              "21416  Indonesia to buy $1.14 billion worth of Russia...  ...     worldnews\n",
              "\n",
              "[21417 rows x 3 columns]"
            ]
          },
          "metadata": {},
          "execution_count": 6
        }
      ]
    },
    {
      "cell_type": "code",
      "metadata": {
        "colab": {
          "base_uri": "https://localhost:8080/"
        },
        "id": "ZOGE4SOIbPD4",
        "outputId": "d10ad704-7ab7-4733-8f9b-1fb01ca699a0"
      },
      "source": [
        "print(real_data.shape)\n",
        "print(fake_data.shape)"
      ],
      "execution_count": null,
      "outputs": [
        {
          "output_type": "stream",
          "name": "stdout",
          "text": [
            "(21417, 3)\n",
            "(23481, 3)\n"
          ]
        }
      ]
    },
    {
      "cell_type": "code",
      "metadata": {
        "colab": {
          "base_uri": "https://localhost:8080/"
        },
        "id": "qummkj6Nbtct",
        "outputId": "5e6ecdc8-3244-42cb-d3a9-a7360a666748"
      },
      "source": [
        "fake_rate=(fake_data.shape[0])/((fake_data.shape[0])+real_data.shape[0])*100\n",
        "print(\"Percentage of Fake data is: \", fake_rate)"
      ],
      "execution_count": null,
      "outputs": [
        {
          "output_type": "stream",
          "name": "stdout",
          "text": [
            "Percentage of Fake data is:  52.29854336496058\n"
          ]
        }
      ]
    },
    {
      "cell_type": "code",
      "metadata": {
        "colab": {
          "base_uri": "https://localhost:8080/"
        },
        "id": "GjPiIyjybxYB",
        "outputId": "c41dd1a3-784c-43eb-8e3c-3d05d4eaef56"
      },
      "source": [
        "real_rate=100-fake_rate\n",
        "print(\"Percentage of Real data is: \", real_rate)"
      ],
      "execution_count": null,
      "outputs": [
        {
          "output_type": "stream",
          "name": "stdout",
          "text": [
            "Percentage of Real data is:  47.70145663503942\n"
          ]
        }
      ]
    },
    {
      "cell_type": "code",
      "metadata": {
        "colab": {
          "base_uri": "https://localhost:8080/"
        },
        "id": "KngxNZKubyyS",
        "outputId": "a3601d81-157c-4af9-ab67-08f9ef56f608"
      },
      "source": [
        "#Since the amount of fake news is high, the data samples are biased towards fake news\n",
        "#The differece between the percentage is not large and hence we can still have fair accuracy while training our model\n",
        "print(\"Data is biased but can be worked with...\")"
      ],
      "execution_count": null,
      "outputs": [
        {
          "output_type": "stream",
          "name": "stdout",
          "text": [
            "Data is biased but can be worked with...\n"
          ]
        }
      ]
    },
    {
      "cell_type": "code",
      "metadata": {
        "id": "G8Et_qNxb0N0"
      },
      "source": [
        "fake_data['label']=0\n",
        "real_data['label']=1"
      ],
      "execution_count": null,
      "outputs": []
    },
    {
      "cell_type": "code",
      "metadata": {
        "colab": {
          "base_uri": "https://localhost:8080/"
        },
        "id": "kx2VGOv4cBSQ",
        "outputId": "9a126723-7787-429c-aa70-b1ab10acca8d"
      },
      "source": [
        "fake_data.isna().sum"
      ],
      "execution_count": null,
      "outputs": [
        {
          "output_type": "execute_result",
          "data": {
            "text/plain": [
              "<bound method DataFrame.sum of        title   text  subject  label\n",
              "0      False  False    False  False\n",
              "1      False  False    False  False\n",
              "2      False  False    False  False\n",
              "3      False  False    False  False\n",
              "4      False  False    False  False\n",
              "...      ...    ...      ...    ...\n",
              "23476  False  False    False  False\n",
              "23477  False  False    False  False\n",
              "23478  False  False    False  False\n",
              "23479  False  False    False  False\n",
              "23480  False  False    False  False\n",
              "\n",
              "[23481 rows x 4 columns]>"
            ]
          },
          "metadata": {},
          "execution_count": 12
        }
      ]
    },
    {
      "cell_type": "code",
      "metadata": {
        "colab": {
          "base_uri": "https://localhost:8080/"
        },
        "id": "i2QEGvUScDUu",
        "outputId": "6493ea9c-b6c0-45dd-b023-caaa33030262"
      },
      "source": [
        "real_data.isna().sum"
      ],
      "execution_count": null,
      "outputs": [
        {
          "output_type": "execute_result",
          "data": {
            "text/plain": [
              "<bound method DataFrame.sum of        title   text  subject  label\n",
              "0      False  False    False  False\n",
              "1      False  False    False  False\n",
              "2      False  False    False  False\n",
              "3      False  False    False  False\n",
              "4      False  False    False  False\n",
              "...      ...    ...      ...    ...\n",
              "21412  False  False    False  False\n",
              "21413  False  False    False  False\n",
              "21414  False  False    False  False\n",
              "21415  False  False    False  False\n",
              "21416  False  False    False  False\n",
              "\n",
              "[21417 rows x 4 columns]>"
            ]
          },
          "metadata": {},
          "execution_count": 13
        }
      ]
    },
    {
      "cell_type": "code",
      "metadata": {
        "colab": {
          "base_uri": "https://localhost:8080/",
          "height": 423
        },
        "id": "PkNZKZI6cF0h",
        "outputId": "cce205bc-4883-4e35-cd5d-205b54a6ea20"
      },
      "source": [
        "data = fake_data\n",
        "data=pd.concat([fake_data,real_data], axis=0, ignore_index=True)\n",
        "data"
      ],
      "execution_count": null,
      "outputs": [
        {
          "output_type": "execute_result",
          "data": {
            "text/html": [
              "<div>\n",
              "<style scoped>\n",
              "    .dataframe tbody tr th:only-of-type {\n",
              "        vertical-align: middle;\n",
              "    }\n",
              "\n",
              "    .dataframe tbody tr th {\n",
              "        vertical-align: top;\n",
              "    }\n",
              "\n",
              "    .dataframe thead th {\n",
              "        text-align: right;\n",
              "    }\n",
              "</style>\n",
              "<table border=\"1\" class=\"dataframe\">\n",
              "  <thead>\n",
              "    <tr style=\"text-align: right;\">\n",
              "      <th></th>\n",
              "      <th>title</th>\n",
              "      <th>text</th>\n",
              "      <th>subject</th>\n",
              "      <th>label</th>\n",
              "    </tr>\n",
              "  </thead>\n",
              "  <tbody>\n",
              "    <tr>\n",
              "      <th>0</th>\n",
              "      <td>Donald Trump Sends Out Embarrassing New Year’...</td>\n",
              "      <td>Donald Trump just couldn t wish all Americans ...</td>\n",
              "      <td>News</td>\n",
              "      <td>0</td>\n",
              "    </tr>\n",
              "    <tr>\n",
              "      <th>1</th>\n",
              "      <td>Drunk Bragging Trump Staffer Started Russian ...</td>\n",
              "      <td>House Intelligence Committee Chairman Devin Nu...</td>\n",
              "      <td>News</td>\n",
              "      <td>0</td>\n",
              "    </tr>\n",
              "    <tr>\n",
              "      <th>2</th>\n",
              "      <td>Sheriff David Clarke Becomes An Internet Joke...</td>\n",
              "      <td>On Friday, it was revealed that former Milwauk...</td>\n",
              "      <td>News</td>\n",
              "      <td>0</td>\n",
              "    </tr>\n",
              "    <tr>\n",
              "      <th>3</th>\n",
              "      <td>Trump Is So Obsessed He Even Has Obama’s Name...</td>\n",
              "      <td>On Christmas day, Donald Trump announced that ...</td>\n",
              "      <td>News</td>\n",
              "      <td>0</td>\n",
              "    </tr>\n",
              "    <tr>\n",
              "      <th>4</th>\n",
              "      <td>Pope Francis Just Called Out Donald Trump Dur...</td>\n",
              "      <td>Pope Francis used his annual Christmas Day mes...</td>\n",
              "      <td>News</td>\n",
              "      <td>0</td>\n",
              "    </tr>\n",
              "    <tr>\n",
              "      <th>...</th>\n",
              "      <td>...</td>\n",
              "      <td>...</td>\n",
              "      <td>...</td>\n",
              "      <td>...</td>\n",
              "    </tr>\n",
              "    <tr>\n",
              "      <th>44893</th>\n",
              "      <td>'Fully committed' NATO backs new U.S. approach...</td>\n",
              "      <td>BRUSSELS (Reuters) - NATO allies on Tuesday we...</td>\n",
              "      <td>worldnews</td>\n",
              "      <td>1</td>\n",
              "    </tr>\n",
              "    <tr>\n",
              "      <th>44894</th>\n",
              "      <td>LexisNexis withdrew two products from Chinese ...</td>\n",
              "      <td>LONDON (Reuters) - LexisNexis, a provider of l...</td>\n",
              "      <td>worldnews</td>\n",
              "      <td>1</td>\n",
              "    </tr>\n",
              "    <tr>\n",
              "      <th>44895</th>\n",
              "      <td>Minsk cultural hub becomes haven from authorities</td>\n",
              "      <td>MINSK (Reuters) - In the shadow of disused Sov...</td>\n",
              "      <td>worldnews</td>\n",
              "      <td>1</td>\n",
              "    </tr>\n",
              "    <tr>\n",
              "      <th>44896</th>\n",
              "      <td>Vatican upbeat on possibility of Pope Francis ...</td>\n",
              "      <td>MOSCOW (Reuters) - Vatican Secretary of State ...</td>\n",
              "      <td>worldnews</td>\n",
              "      <td>1</td>\n",
              "    </tr>\n",
              "    <tr>\n",
              "      <th>44897</th>\n",
              "      <td>Indonesia to buy $1.14 billion worth of Russia...</td>\n",
              "      <td>JAKARTA (Reuters) - Indonesia will buy 11 Sukh...</td>\n",
              "      <td>worldnews</td>\n",
              "      <td>1</td>\n",
              "    </tr>\n",
              "  </tbody>\n",
              "</table>\n",
              "<p>44898 rows × 4 columns</p>\n",
              "</div>"
            ],
            "text/plain": [
              "                                                   title  ... label\n",
              "0       Donald Trump Sends Out Embarrassing New Year’...  ...     0\n",
              "1       Drunk Bragging Trump Staffer Started Russian ...  ...     0\n",
              "2       Sheriff David Clarke Becomes An Internet Joke...  ...     0\n",
              "3       Trump Is So Obsessed He Even Has Obama’s Name...  ...     0\n",
              "4       Pope Francis Just Called Out Donald Trump Dur...  ...     0\n",
              "...                                                  ...  ...   ...\n",
              "44893  'Fully committed' NATO backs new U.S. approach...  ...     1\n",
              "44894  LexisNexis withdrew two products from Chinese ...  ...     1\n",
              "44895  Minsk cultural hub becomes haven from authorities  ...     1\n",
              "44896  Vatican upbeat on possibility of Pope Francis ...  ...     1\n",
              "44897  Indonesia to buy $1.14 billion worth of Russia...  ...     1\n",
              "\n",
              "[44898 rows x 4 columns]"
            ]
          },
          "metadata": {},
          "execution_count": 14
        }
      ]
    },
    {
      "cell_type": "code",
      "metadata": {
        "id": "8k3KuXolcLEl"
      },
      "source": [
        "data_title_label = data.iloc[:, [0,3]]"
      ],
      "execution_count": null,
      "outputs": []
    },
    {
      "cell_type": "code",
      "metadata": {
        "colab": {
          "base_uri": "https://localhost:8080/",
          "height": 423
        },
        "id": "Bx0oKss0cXtq",
        "outputId": "3effb5fd-d464-4643-c99f-7e432ec20783"
      },
      "source": [
        "data_title_label"
      ],
      "execution_count": null,
      "outputs": [
        {
          "output_type": "execute_result",
          "data": {
            "text/html": [
              "<div>\n",
              "<style scoped>\n",
              "    .dataframe tbody tr th:only-of-type {\n",
              "        vertical-align: middle;\n",
              "    }\n",
              "\n",
              "    .dataframe tbody tr th {\n",
              "        vertical-align: top;\n",
              "    }\n",
              "\n",
              "    .dataframe thead th {\n",
              "        text-align: right;\n",
              "    }\n",
              "</style>\n",
              "<table border=\"1\" class=\"dataframe\">\n",
              "  <thead>\n",
              "    <tr style=\"text-align: right;\">\n",
              "      <th></th>\n",
              "      <th>title</th>\n",
              "      <th>label</th>\n",
              "    </tr>\n",
              "  </thead>\n",
              "  <tbody>\n",
              "    <tr>\n",
              "      <th>0</th>\n",
              "      <td>Donald Trump Sends Out Embarrassing New Year’...</td>\n",
              "      <td>0</td>\n",
              "    </tr>\n",
              "    <tr>\n",
              "      <th>1</th>\n",
              "      <td>Drunk Bragging Trump Staffer Started Russian ...</td>\n",
              "      <td>0</td>\n",
              "    </tr>\n",
              "    <tr>\n",
              "      <th>2</th>\n",
              "      <td>Sheriff David Clarke Becomes An Internet Joke...</td>\n",
              "      <td>0</td>\n",
              "    </tr>\n",
              "    <tr>\n",
              "      <th>3</th>\n",
              "      <td>Trump Is So Obsessed He Even Has Obama’s Name...</td>\n",
              "      <td>0</td>\n",
              "    </tr>\n",
              "    <tr>\n",
              "      <th>4</th>\n",
              "      <td>Pope Francis Just Called Out Donald Trump Dur...</td>\n",
              "      <td>0</td>\n",
              "    </tr>\n",
              "    <tr>\n",
              "      <th>...</th>\n",
              "      <td>...</td>\n",
              "      <td>...</td>\n",
              "    </tr>\n",
              "    <tr>\n",
              "      <th>44893</th>\n",
              "      <td>'Fully committed' NATO backs new U.S. approach...</td>\n",
              "      <td>1</td>\n",
              "    </tr>\n",
              "    <tr>\n",
              "      <th>44894</th>\n",
              "      <td>LexisNexis withdrew two products from Chinese ...</td>\n",
              "      <td>1</td>\n",
              "    </tr>\n",
              "    <tr>\n",
              "      <th>44895</th>\n",
              "      <td>Minsk cultural hub becomes haven from authorities</td>\n",
              "      <td>1</td>\n",
              "    </tr>\n",
              "    <tr>\n",
              "      <th>44896</th>\n",
              "      <td>Vatican upbeat on possibility of Pope Francis ...</td>\n",
              "      <td>1</td>\n",
              "    </tr>\n",
              "    <tr>\n",
              "      <th>44897</th>\n",
              "      <td>Indonesia to buy $1.14 billion worth of Russia...</td>\n",
              "      <td>1</td>\n",
              "    </tr>\n",
              "  </tbody>\n",
              "</table>\n",
              "<p>44898 rows × 2 columns</p>\n",
              "</div>"
            ],
            "text/plain": [
              "                                                   title  label\n",
              "0       Donald Trump Sends Out Embarrassing New Year’...      0\n",
              "1       Drunk Bragging Trump Staffer Started Russian ...      0\n",
              "2       Sheriff David Clarke Becomes An Internet Joke...      0\n",
              "3       Trump Is So Obsessed He Even Has Obama’s Name...      0\n",
              "4       Pope Francis Just Called Out Donald Trump Dur...      0\n",
              "...                                                  ...    ...\n",
              "44893  'Fully committed' NATO backs new U.S. approach...      1\n",
              "44894  LexisNexis withdrew two products from Chinese ...      1\n",
              "44895  Minsk cultural hub becomes haven from authorities      1\n",
              "44896  Vatican upbeat on possibility of Pope Francis ...      1\n",
              "44897  Indonesia to buy $1.14 billion worth of Russia...      1\n",
              "\n",
              "[44898 rows x 2 columns]"
            ]
          },
          "metadata": {},
          "execution_count": 16
        }
      ]
    },
    {
      "cell_type": "code",
      "metadata": {
        "colab": {
          "base_uri": "https://localhost:8080/"
        },
        "id": "8QJsRhtjdVww",
        "outputId": "7dc0c657-1738-41e9-b0c3-a054a2e2bb78"
      },
      "source": [
        "import re\n",
        "import nltk\n",
        "nltk.download('stopwords')\n",
        "from nltk.corpus import stopwords\n",
        "from nltk.stem.porter import PorterStemmer\n",
        "corpus = []\n",
        "for i in range(0, 44898):\n",
        "    title = re.sub('[^a-zA-Z]', ' ', data_title_label['title'][i]) # review to contain only letters a to z and if the character is removed replace it by so+pace\n",
        "    title = title.lower() # review to contain only lower case letter\n",
        "    title = title.split() # Splitting the string into different words\n",
        "    ps = PorterStemmer() # Creating object of the class\n",
        "    title = [ps.stem(word) for word in title if not word in set(stopwords.words('english'))]  # Set here is used only for faster execution of code in case there are too many words...\n",
        "    title = ' '.join(title) # Converting the list back to string\n",
        "    corpus.append(title)"
      ],
      "execution_count": null,
      "outputs": [
        {
          "output_type": "stream",
          "name": "stdout",
          "text": [
            "[nltk_data] Downloading package stopwords to /root/nltk_data...\n",
            "[nltk_data]   Package stopwords is already up-to-date!\n"
          ]
        }
      ]
    },
    {
      "cell_type": "code",
      "metadata": {
        "id": "XIx1zyXBdZfe"
      },
      "source": [
        "from sklearn.feature_extraction.text import CountVectorizer\n",
        "cv = CountVectorizer(max_features=15000)\n",
        "X = cv.fit_transform(corpus).toarray()\n",
        "y = data_title_label.iloc[:, 1].values"
      ],
      "execution_count": null,
      "outputs": []
    },
    {
      "cell_type": "code",
      "metadata": {
        "id": "zdt4a3Ypd07W"
      },
      "source": [
        "from sklearn.model_selection import train_test_split\n",
        "X_train, X_test, y_train, y_test = train_test_split(X, y,\n",
        "                                                   test_size=0.25,\n",
        "                                                   random_state=0)"
      ],
      "execution_count": null,
      "outputs": []
    },
    {
      "cell_type": "code",
      "metadata": {
        "id": "NMlsy7kYd3I5"
      },
      "source": [
        "import keras\n",
        "from keras.models import Sequential\n",
        "from keras.layers import Dense"
      ],
      "execution_count": null,
      "outputs": []
    },
    {
      "cell_type": "code",
      "metadata": {
        "id": "bpQtnFLnd46Y"
      },
      "source": [
        "import tensorflow as tf\n",
        "ann = tf.keras.models.Sequential()"
      ],
      "execution_count": null,
      "outputs": []
    },
    {
      "cell_type": "code",
      "metadata": {
        "id": "Yqo86eRveCmZ"
      },
      "source": [
        "ann.add(tf.keras.layers.Dense(units=6, activation='relu'))\n",
        "ann.add(tf.keras.layers.Dense(units=6, activation='relu'))"
      ],
      "execution_count": null,
      "outputs": []
    },
    {
      "cell_type": "code",
      "metadata": {
        "id": "m380JonJgPSE"
      },
      "source": [
        "ann.add(tf.keras.layers.Dense(units=1, activation='sigmoid'))"
      ],
      "execution_count": null,
      "outputs": []
    },
    {
      "cell_type": "code",
      "metadata": {
        "id": "cj9Wp406gWBn"
      },
      "source": [
        "ann.compile(optimizer='adam', loss='binary_crossentropy', metrics=['accuracy'])"
      ],
      "execution_count": null,
      "outputs": []
    },
    {
      "cell_type": "code",
      "metadata": {
        "colab": {
          "base_uri": "https://localhost:8080/"
        },
        "id": "tM9LomXYgcaC",
        "outputId": "a5d4e360-fa1c-4749-c734-4a3d935cf01a"
      },
      "source": [
        "ann.fit(X_train, y_train, batch_size=32, epochs=100)"
      ],
      "execution_count": null,
      "outputs": [
        {
          "output_type": "stream",
          "name": "stdout",
          "text": [
            "Epoch 1/100\n",
            "1053/1053 [==============================] - 6s 5ms/step - loss: 0.2761 - accuracy: 0.9132\n",
            "Epoch 2/100\n",
            "1053/1053 [==============================] - 5s 5ms/step - loss: 0.0991 - accuracy: 0.9639\n",
            "Epoch 3/100\n",
            "1053/1053 [==============================] - 5s 5ms/step - loss: 0.0700 - accuracy: 0.9757\n",
            "Epoch 4/100\n",
            "1053/1053 [==============================] - 5s 5ms/step - loss: 0.0533 - accuracy: 0.9820\n",
            "Epoch 5/100\n",
            "1053/1053 [==============================] - 5s 5ms/step - loss: 0.0422 - accuracy: 0.9858\n",
            "Epoch 6/100\n",
            "1053/1053 [==============================] - 5s 5ms/step - loss: 0.0336 - accuracy: 0.9892\n",
            "Epoch 7/100\n",
            "1053/1053 [==============================] - 5s 5ms/step - loss: 0.0271 - accuracy: 0.9912\n",
            "Epoch 8/100\n",
            "1053/1053 [==============================] - 5s 5ms/step - loss: 0.0228 - accuracy: 0.9922\n",
            "Epoch 9/100\n",
            "1053/1053 [==============================] - 5s 5ms/step - loss: 0.0190 - accuracy: 0.9941\n",
            "Epoch 10/100\n",
            "1053/1053 [==============================] - 5s 5ms/step - loss: 0.0156 - accuracy: 0.9948\n",
            "Epoch 11/100\n",
            "1053/1053 [==============================] - 5s 5ms/step - loss: 0.0137 - accuracy: 0.9953\n",
            "Epoch 12/100\n",
            "1053/1053 [==============================] - 5s 5ms/step - loss: 0.0110 - accuracy: 0.9963\n",
            "Epoch 13/100\n",
            "1053/1053 [==============================] - 5s 5ms/step - loss: 0.0098 - accuracy: 0.9967\n",
            "Epoch 14/100\n",
            "1053/1053 [==============================] - 5s 5ms/step - loss: 0.0075 - accuracy: 0.9976\n",
            "Epoch 15/100\n",
            "1053/1053 [==============================] - 5s 5ms/step - loss: 0.0064 - accuracy: 0.9980\n",
            "Epoch 16/100\n",
            "1053/1053 [==============================] - 5s 5ms/step - loss: 0.0052 - accuracy: 0.9984\n",
            "Epoch 17/100\n",
            "1053/1053 [==============================] - 5s 5ms/step - loss: 0.0044 - accuracy: 0.9986\n",
            "Epoch 18/100\n",
            "1053/1053 [==============================] - 5s 5ms/step - loss: 0.0033 - accuracy: 0.9988\n",
            "Epoch 19/100\n",
            "1053/1053 [==============================] - 5s 5ms/step - loss: 0.0030 - accuracy: 0.9990\n",
            "Epoch 20/100\n",
            "1053/1053 [==============================] - 5s 5ms/step - loss: 0.0024 - accuracy: 0.9992\n",
            "Epoch 21/100\n",
            "1053/1053 [==============================] - 5s 5ms/step - loss: 0.0018 - accuracy: 0.9994\n",
            "Epoch 22/100\n",
            "1053/1053 [==============================] - 5s 5ms/step - loss: 0.0012 - accuracy: 0.9998\n",
            "Epoch 23/100\n",
            "1053/1053 [==============================] - 5s 5ms/step - loss: 0.0011 - accuracy: 0.9997\n",
            "Epoch 24/100\n",
            "1053/1053 [==============================] - 5s 5ms/step - loss: 9.6466e-04 - accuracy: 0.9998\n",
            "Epoch 25/100\n",
            "1053/1053 [==============================] - 5s 5ms/step - loss: 0.0010 - accuracy: 0.9996\n",
            "Epoch 26/100\n",
            "1053/1053 [==============================] - 5s 5ms/step - loss: 5.1957e-04 - accuracy: 0.9999\n",
            "Epoch 27/100\n",
            "1053/1053 [==============================] - 5s 5ms/step - loss: 4.5279e-04 - accuracy: 0.9999\n",
            "Epoch 28/100\n",
            "1053/1053 [==============================] - 5s 5ms/step - loss: 7.5950e-04 - accuracy: 0.9998\n",
            "Epoch 29/100\n",
            "1053/1053 [==============================] - 5s 5ms/step - loss: 4.6336e-04 - accuracy: 0.9998\n",
            "Epoch 30/100\n",
            "1053/1053 [==============================] - 5s 5ms/step - loss: 3.3476e-04 - accuracy: 0.9999\n",
            "Epoch 31/100\n",
            "1053/1053 [==============================] - 5s 5ms/step - loss: 3.1830e-04 - accuracy: 0.9999\n",
            "Epoch 32/100\n",
            "1053/1053 [==============================] - 5s 5ms/step - loss: 2.9565e-04 - accuracy: 1.0000\n",
            "Epoch 33/100\n",
            "1053/1053 [==============================] - 5s 5ms/step - loss: 1.9014e-04 - accuracy: 0.9999\n",
            "Epoch 34/100\n",
            "1053/1053 [==============================] - 5s 5ms/step - loss: 1.9104e-04 - accuracy: 0.9999\n",
            "Epoch 35/100\n",
            "1053/1053 [==============================] - 5s 5ms/step - loss: 3.6434e-04 - accuracy: 0.9999\n",
            "Epoch 36/100\n",
            "1053/1053 [==============================] - 5s 5ms/step - loss: 4.3520e-04 - accuracy: 0.9998\n",
            "Epoch 37/100\n",
            "1053/1053 [==============================] - 5s 5ms/step - loss: 1.7186e-04 - accuracy: 0.9999\n",
            "Epoch 38/100\n",
            "1053/1053 [==============================] - 5s 5ms/step - loss: 2.3054e-04 - accuracy: 0.9999\n",
            "Epoch 39/100\n",
            "1053/1053 [==============================] - 5s 5ms/step - loss: 2.5587e-04 - accuracy: 0.9999\n",
            "Epoch 40/100\n",
            "1053/1053 [==============================] - 5s 5ms/step - loss: 1.2291e-04 - accuracy: 1.0000\n",
            "Epoch 41/100\n",
            "1053/1053 [==============================] - 5s 5ms/step - loss: 7.2833e-05 - accuracy: 1.0000\n",
            "Epoch 42/100\n",
            "1053/1053 [==============================] - 5s 5ms/step - loss: 6.9859e-05 - accuracy: 1.0000\n",
            "Epoch 43/100\n",
            "1053/1053 [==============================] - 5s 5ms/step - loss: 6.8038e-05 - accuracy: 1.0000\n",
            "Epoch 44/100\n",
            "1053/1053 [==============================] - 5s 5ms/step - loss: 6.7949e-05 - accuracy: 1.0000\n",
            "Epoch 45/100\n",
            "1053/1053 [==============================] - 5s 5ms/step - loss: 7.1771e-05 - accuracy: 1.0000\n",
            "Epoch 46/100\n",
            "1053/1053 [==============================] - 5s 5ms/step - loss: 6.5963e-05 - accuracy: 1.0000\n",
            "Epoch 47/100\n",
            "1053/1053 [==============================] - 5s 5ms/step - loss: 6.8254e-05 - accuracy: 1.0000\n",
            "Epoch 48/100\n",
            "1053/1053 [==============================] - 5s 5ms/step - loss: 2.0735e-04 - accuracy: 0.9999\n",
            "Epoch 49/100\n",
            "1053/1053 [==============================] - 5s 5ms/step - loss: 3.9889e-04 - accuracy: 0.9999\n",
            "Epoch 50/100\n",
            "1053/1053 [==============================] - 5s 5ms/step - loss: 1.7507e-04 - accuracy: 0.9999\n",
            "Epoch 51/100\n",
            "1053/1053 [==============================] - 5s 5ms/step - loss: 7.6784e-05 - accuracy: 1.0000\n",
            "Epoch 52/100\n",
            "1053/1053 [==============================] - 5s 5ms/step - loss: 6.6342e-05 - accuracy: 1.0000\n",
            "Epoch 53/100\n",
            "1053/1053 [==============================] - 5s 5ms/step - loss: 6.0373e-05 - accuracy: 1.0000\n",
            "Epoch 54/100\n",
            "1053/1053 [==============================] - 5s 5ms/step - loss: 6.3131e-05 - accuracy: 1.0000\n",
            "Epoch 55/100\n",
            "1053/1053 [==============================] - 5s 5ms/step - loss: 6.2247e-05 - accuracy: 1.0000\n",
            "Epoch 56/100\n",
            "1053/1053 [==============================] - 5s 5ms/step - loss: 6.1999e-05 - accuracy: 1.0000\n",
            "Epoch 57/100\n",
            "1053/1053 [==============================] - 5s 5ms/step - loss: 6.2384e-05 - accuracy: 1.0000\n",
            "Epoch 58/100\n",
            "1053/1053 [==============================] - 5s 5ms/step - loss: 6.7079e-05 - accuracy: 1.0000\n",
            "Epoch 59/100\n",
            "1053/1053 [==============================] - 5s 5ms/step - loss: 6.1834e-05 - accuracy: 1.0000\n",
            "Epoch 60/100\n",
            "1053/1053 [==============================] - 5s 5ms/step - loss: 6.5755e-05 - accuracy: 1.0000\n",
            "Epoch 61/100\n",
            "1053/1053 [==============================] - 5s 5ms/step - loss: 2.3423e-04 - accuracy: 0.9999\n",
            "Epoch 62/100\n",
            "1053/1053 [==============================] - 5s 5ms/step - loss: 7.0824e-05 - accuracy: 1.0000\n",
            "Epoch 63/100\n",
            "1053/1053 [==============================] - 5s 5ms/step - loss: 6.1886e-05 - accuracy: 1.0000\n",
            "Epoch 64/100\n",
            "1053/1053 [==============================] - 5s 5ms/step - loss: 5.9227e-05 - accuracy: 1.0000\n",
            "Epoch 65/100\n",
            "1053/1053 [==============================] - 5s 5ms/step - loss: 6.2980e-05 - accuracy: 1.0000\n",
            "Epoch 66/100\n",
            "1053/1053 [==============================] - 5s 5ms/step - loss: 6.7654e-05 - accuracy: 1.0000\n",
            "Epoch 67/100\n",
            "1053/1053 [==============================] - 5s 5ms/step - loss: 6.1151e-05 - accuracy: 1.0000\n",
            "Epoch 68/100\n",
            "1053/1053 [==============================] - 5s 5ms/step - loss: 6.2123e-05 - accuracy: 1.0000\n",
            "Epoch 69/100\n",
            "1053/1053 [==============================] - 5s 5ms/step - loss: 6.3356e-05 - accuracy: 1.0000\n",
            "Epoch 70/100\n",
            "1053/1053 [==============================] - 5s 5ms/step - loss: 6.1681e-05 - accuracy: 1.0000\n",
            "Epoch 71/100\n",
            "1053/1053 [==============================] - 5s 5ms/step - loss: 6.2369e-05 - accuracy: 1.0000\n",
            "Epoch 72/100\n",
            "1053/1053 [==============================] - 5s 5ms/step - loss: 6.5652e-05 - accuracy: 1.0000\n",
            "Epoch 73/100\n",
            "1053/1053 [==============================] - 5s 5ms/step - loss: 6.5570e-05 - accuracy: 1.0000\n",
            "Epoch 74/100\n",
            "1053/1053 [==============================] - 5s 5ms/step - loss: 6.2330e-05 - accuracy: 1.0000\n",
            "Epoch 75/100\n",
            "1053/1053 [==============================] - 5s 5ms/step - loss: 6.4298e-05 - accuracy: 1.0000\n",
            "Epoch 76/100\n",
            "1053/1053 [==============================] - 5s 5ms/step - loss: 6.2261e-05 - accuracy: 1.0000\n",
            "Epoch 77/100\n",
            "1053/1053 [==============================] - 5s 5ms/step - loss: 6.3347e-05 - accuracy: 1.0000\n",
            "Epoch 78/100\n",
            "1053/1053 [==============================] - 5s 5ms/step - loss: 6.5230e-05 - accuracy: 1.0000\n",
            "Epoch 79/100\n",
            "1053/1053 [==============================] - 5s 5ms/step - loss: 6.2854e-05 - accuracy: 1.0000\n",
            "Epoch 80/100\n",
            "1053/1053 [==============================] - 5s 5ms/step - loss: 6.2193e-05 - accuracy: 1.0000\n",
            "Epoch 81/100\n",
            "1053/1053 [==============================] - 5s 5ms/step - loss: 6.5689e-05 - accuracy: 1.0000\n",
            "Epoch 82/100\n",
            "1053/1053 [==============================] - 5s 5ms/step - loss: 6.4691e-05 - accuracy: 1.0000\n",
            "Epoch 83/100\n",
            "1053/1053 [==============================] - 5s 5ms/step - loss: 6.3418e-05 - accuracy: 1.0000\n",
            "Epoch 84/100\n",
            "1053/1053 [==============================] - 5s 5ms/step - loss: 6.1940e-05 - accuracy: 1.0000\n",
            "Epoch 85/100\n",
            "1053/1053 [==============================] - 5s 5ms/step - loss: 6.2896e-05 - accuracy: 1.0000\n",
            "Epoch 86/100\n",
            "1053/1053 [==============================] - 5s 5ms/step - loss: 6.3183e-05 - accuracy: 1.0000\n",
            "Epoch 87/100\n",
            "1053/1053 [==============================] - 5s 5ms/step - loss: 6.2630e-05 - accuracy: 1.0000\n",
            "Epoch 88/100\n",
            "1053/1053 [==============================] - 5s 5ms/step - loss: 6.3064e-05 - accuracy: 1.0000\n",
            "Epoch 89/100\n",
            "1053/1053 [==============================] - 5s 5ms/step - loss: 6.2537e-05 - accuracy: 1.0000\n",
            "Epoch 90/100\n",
            "1053/1053 [==============================] - 5s 5ms/step - loss: 6.2723e-05 - accuracy: 1.0000\n",
            "Epoch 91/100\n",
            "1053/1053 [==============================] - 5s 5ms/step - loss: 6.3889e-05 - accuracy: 1.0000\n",
            "Epoch 92/100\n",
            "1053/1053 [==============================] - 5s 5ms/step - loss: 6.3179e-05 - accuracy: 1.0000\n",
            "Epoch 93/100\n",
            "1053/1053 [==============================] - 5s 5ms/step - loss: 6.4156e-05 - accuracy: 1.0000\n",
            "Epoch 94/100\n",
            "1053/1053 [==============================] - 5s 5ms/step - loss: 6.1932e-05 - accuracy: 1.0000\n",
            "Epoch 95/100\n",
            "1053/1053 [==============================] - 5s 5ms/step - loss: 6.3064e-05 - accuracy: 1.0000\n",
            "Epoch 96/100\n",
            "1053/1053 [==============================] - 5s 5ms/step - loss: 6.3060e-05 - accuracy: 1.0000\n",
            "Epoch 97/100\n",
            "1053/1053 [==============================] - 5s 5ms/step - loss: 6.3265e-05 - accuracy: 1.0000\n",
            "Epoch 98/100\n",
            "1053/1053 [==============================] - 5s 5ms/step - loss: 6.2609e-05 - accuracy: 1.0000\n",
            "Epoch 99/100\n",
            "1053/1053 [==============================] - 5s 5ms/step - loss: 6.2882e-05 - accuracy: 1.0000\n",
            "Epoch 100/100\n",
            "1053/1053 [==============================] - 5s 5ms/step - loss: 6.3423e-05 - accuracy: 1.0000\n"
          ]
        },
        {
          "output_type": "execute_result",
          "data": {
            "text/plain": [
              "<keras.callbacks.History at 0x7f9b12e01b90>"
            ]
          },
          "metadata": {},
          "execution_count": 27
        }
      ]
    },
    {
      "cell_type": "code",
      "metadata": {
        "id": "L_HqJ3e_ghSo"
      },
      "source": [
        "y_pred = ann.predict(X_test)"
      ],
      "execution_count": null,
      "outputs": []
    },
    {
      "cell_type": "code",
      "metadata": {
        "id": "8xUda9ZujKkY"
      },
      "source": [
        "y_pred = (y_pred>0.5)"
      ],
      "execution_count": null,
      "outputs": []
    },
    {
      "cell_type": "code",
      "metadata": {
        "colab": {
          "base_uri": "https://localhost:8080/"
        },
        "id": "sDsX-YNSjL2E",
        "outputId": "f9a3d104-2cf7-4942-9096-7bb1e08fd3fe"
      },
      "source": [
        "y_pred"
      ],
      "execution_count": null,
      "outputs": [
        {
          "output_type": "execute_result",
          "data": {
            "text/plain": [
              "array([[ True],\n",
              "       [ True],\n",
              "       [ True],\n",
              "       ...,\n",
              "       [False],\n",
              "       [ True],\n",
              "       [False]])"
            ]
          },
          "metadata": {},
          "execution_count": 31
        }
      ]
    },
    {
      "cell_type": "code",
      "metadata": {
        "colab": {
          "base_uri": "https://localhost:8080/"
        },
        "id": "D0_dUakQjSAg",
        "outputId": "d118bdc5-a521-4f88-a266-d8b34fd35bc9"
      },
      "source": [
        "from sklearn.metrics import confusion_matrix\n",
        "confusion_matrix(y_test, y_pred)"
      ],
      "execution_count": null,
      "outputs": [
        {
          "output_type": "execute_result",
          "data": {
            "text/plain": [
              "array([[5588,  288],\n",
              "       [ 463, 4886]])"
            ]
          },
          "metadata": {},
          "execution_count": 32
        }
      ]
    },
    {
      "cell_type": "code",
      "metadata": {
        "colab": {
          "base_uri": "https://localhost:8080/"
        },
        "id": "bwZq7Invjbkq",
        "outputId": "d2a5fafd-3d9b-465a-bff9-7991078baeda"
      },
      "source": [
        "from sklearn.metrics import classification_report\n",
        "print(classification_report(y_test, y_pred))"
      ],
      "execution_count": null,
      "outputs": [
        {
          "output_type": "stream",
          "name": "stdout",
          "text": [
            "              precision    recall  f1-score   support\n",
            "\n",
            "           0       0.92      0.95      0.94      5876\n",
            "           1       0.94      0.91      0.93      5349\n",
            "\n",
            "    accuracy                           0.93     11225\n",
            "   macro avg       0.93      0.93      0.93     11225\n",
            "weighted avg       0.93      0.93      0.93     11225\n",
            "\n"
          ]
        }
      ]
    },
    {
      "cell_type": "code",
      "metadata": {
        "id": "GKj4sCgFkUwU"
      },
      "source": [
        ""
      ],
      "execution_count": null,
      "outputs": []
    }
  ]
}